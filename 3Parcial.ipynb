{
 "cells": [
  {
   "cell_type": "code",
   "execution_count": 1,
   "metadata": {},
   "outputs": [
    {
     "name": "stderr",
     "output_type": "stream",
     "text": [
      "c:\\Users\\El Rorro\\anaconda3\\Lib\\site-packages\\paramiko\\transport.py:219: CryptographyDeprecationWarning: Blowfish has been deprecated\n",
      "  \"class\": algorithms.Blowfish,\n"
     ]
    }
   ],
   "source": [
    "import numpy as np\n",
    "import matplotlib.pyplot as plt\n",
    "from skimage.draw import disk, rectangle, ellipse, polygon\n",
    "from skimage import measure, io\n",
    "import matplotlib.patches as mpatches"
   ]
  },
  {
   "cell_type": "code",
   "execution_count": 2,
   "metadata": {},
   "outputs": [
    {
     "name": "stdout",
     "output_type": "stream",
     "text": [
      "Label: 1\n",
      "Area: 5000.0\n",
      "Perimeter: 296.0\n",
      "Centroid: (99.5, 274.5)\n",
      "BoundingBox: (50, 250, 150, 300)\n",
      "Orientation: 0.0\n",
      "Label: 2\n",
      "Area: 7825.0\n",
      "Perimeter: 326.3919189857866\n",
      "Centroid: (100.0, 100.0)\n",
      "BoundingBox: (51, 51, 150, 150)\n",
      "Orientation: 0.7853981633974483\n",
      "Label: 3\n",
      "Area: 5629.0\n",
      "Perimeter: 302.79393923934\n",
      "Centroid: (300.0, 100.0)\n",
      "BoundingBox: (241, 71, 360, 130)\n",
      "Orientation: 0.0\n",
      "Label: 4\n",
      "Area: 1301.0\n",
      "Perimeter: 168.0893577750951\n",
      "Centroid: (333.4934665641814, 300.0)\n",
      "BoundingBox: (300, 275, 351, 326)\n",
      "Orientation: 1.5054766364874511e-19\n"
     ]
    },
    {
     "data": {
      "image/png": "[encoded data removed]",
      "text/plain": [
       "<Figure size 640x480 with 1 Axes>"
      ]
     },
     "metadata": {},
     "output_type": "display_data"
    }
   ],
   "source": [
    "# Crear una imagen en negro\n",
    "image_shape = (400, 400)\n",
    "binary_image = np.zeros(image_shape, dtype=np.uint8)\n",
    "\n",
    "# Dibujar un círculo\n",
    "rr, cc = disk((100, 100), 50)\n",
    "binary_image[rr, cc] = 1\n",
    "\n",
    "# Dibujar un rectángulo\n",
    "rr, cc = rectangle(start=(50, 250), extent=(100, 50))\n",
    "binary_image[rr, cc] = 1\n",
    "\n",
    "# Dibujar una elipse\n",
    "rr, cc = ellipse(300, 100, 60, 30)\n",
    "binary_image[rr, cc] = 1\n",
    "\n",
    "# Dibujar un triángulo\n",
    "rr_triangle = np.array([300, 350, 350])\n",
    "cc_triangle = np.array([300, 275, 325])\n",
    "rr, cc = polygon(rr_triangle, cc_triangle)\n",
    "binary_image[rr, cc] = 1\n",
    "\n",
    "# Etiquetar los objetos en la imagen\n",
    "label_image = measure.label(binary_image)\n",
    "\n",
    "# Calcular propiedades de los objetos etiquetados\n",
    "props = measure.regionprops(label_image)\n",
    "\n",
    "# Crear una figura para mostrar los resultados\n",
    "fig, ax = plt.subplots()\n",
    "ax.imshow(binary_image, cmap='gray')\n",
    "\n",
    "# Mostrar las propiedades de cada objeto\n",
    "for prop in props:\n",
    "    print(f'Label: {prop.label}')\n",
    "    print(f'Area: {prop.area}')\n",
    "    print(f'Perimeter: {prop.perimeter}')\n",
    "    print(f'Centroid: {prop.centroid}')\n",
    "    print(f'BoundingBox: {prop.bbox}')\n",
    "    print(f'Orientation: {prop.orientation}')\n",
    "    # Dibujar un rectángulo alrededor del objeto\n",
    "    minr, minc, maxr, maxc = prop.bbox\n",
    "    rect = mpatches.Rectangle((minc, minr), maxc - minc, maxr - minr,\n",
    "                              fill=False, edgecolor='red', linewidth=2)\n",
    "    ax.add_patch(rect)\n",
    "\n",
    "# Configurar ejes\n",
    "ax.set_axis_off()\n",
    "plt.tight_layout()\n",
    "plt.show()\n"
   ]
  },
  {
   "cell_type": "code",
   "execution_count": 1,
   "metadata": {},
   "outputs": [],
   "source": [
    "import pandas as pd"
   ]
  },
  {
   "cell_type": "markdown",
   "metadata": {},
   "source": [
    "# Leer conjunto de datos"
   ]
  },
  {
   "cell_type": "code",
   "execution_count": null,
   "metadata": {},
   "outputs": [],
   "source": [
    "df = pd.read_csv()\n"
   ]
  },
  {
   "cell_type": "markdown",
   "metadata": {},
   "source": [
    "## Analisis exploratorio de conjunto de datos "
   ]
  },
  {
   "cell_type": "code",
   "execution_count": 2,
   "metadata": {},
   "outputs": [
    {
     "ename": "NameError",
     "evalue": "name 'df' is not defined",
     "output_type": "error",
     "traceback": [
      "\u001b[1;31m---------------------------------------------------------------------------\u001b[0m",
      "\u001b[1;31mNameError\u001b[0m                                 Traceback (most recent call last)",
      "\u001b[1;32mc:\\Users\\El Rorro\\Desktop\\escuela\\Imagenes\\PDI\\3Parcial.ipynb Cell 7\u001b[0m line \u001b[0;36m1\n\u001b[1;32m----> <a href='vscode-notebook-cell:/c%3A/Users/El%20Rorro/Desktop/escuela/Imagenes/PDI/3Parcial.ipynb#W6sZmlsZQ%3D%3D?line=0'>1</a>\u001b[0m df\u001b[39m.\u001b[39mhead()\n",
      "\u001b[1;31mNameError\u001b[0m: name 'df' is not defined"
     ]
    }
   ],
   "source": [
    "df.head(150) ##Nos muestra ese numero de datos\n",
    "\n",
    "area = df[\"Area\"] ##Nos muestra los datos del area \n",
    "\n",
    "df.mean ##Media\n",
    "\n",
    "df.columns ##Proporciona los nombres de las columnas\n",
    "df.describe() ##Describe varias cosas \n",
    "df.corr() ##Describe la correlacion que existe"
   ]
  },
  {
   "cell_type": "code",
   "execution_count": null,
   "metadata": {},
   "outputs": [],
   "source": []
  }
 ],
 "metadata": {
  "kernelspec": {
   "display_name": "base",
   "language": "python",
   "name": "python3"
  },
  "language_info": {
   "codemirror_mode": {
    "name": "ipython",
    "version": 3
   },
   "file_extension": ".py",
   "mimetype": "text/x-python",
   "name": "python",
   "nbconvert_exporter": "python",
   "pygments_lexer": "ipython3",
   "version": "3.11.4"
  }
 },
 "nbformat": 4,
 "nbformat_minor": 2
}
